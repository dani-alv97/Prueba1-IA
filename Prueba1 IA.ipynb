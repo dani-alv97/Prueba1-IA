{
 "cells": [
  {
   "cell_type": "code",
   "execution_count": 1,
   "metadata": {},
   "outputs": [],
   "source": [
    "import sqlite3"
   ]
  },
  {
   "cell_type": "code",
   "execution_count": 2,
   "metadata": {},
   "outputs": [],
   "source": [
    "conexion=sqlite3.connect(\"bd1.db\")"
   ]
  },
  {
   "cell_type": "code",
   "execution_count": 3,
   "metadata": {},
   "outputs": [
    {
     "name": "stdout",
     "output_type": "stream",
     "text": [
      "Se creo la tabla de clientes\n"
     ]
    }
   ],
   "source": [
    "try:\n",
    "    conexion.execute(\"\"\"\n",
    "                        create table if not exists clientes (codigo integer primary key autoincrement,\n",
    "                                                nombre text, direccion text, telefono real, email text)\n",
    "                        \"\"\")\n",
    "    conexion.execute(\"\"\"\n",
    "                        create table if not exists productos (codigo integer primary key autoincrement,\n",
    "                                                descripcion text, cantidad real)\n",
    "                        \"\"\")\n",
    "    print(\"Se creo la tabla de clientes\")\n",
    "except sqlite3.OperationalError:\n",
    "    print(\"La tabla clientes ya existe\")\n",
    "conexion.close()"
   ]
  },
  {
   "cell_type": "code",
   "execution_count": null,
   "metadata": {},
   "outputs": [],
   "source": []
  }
 ],
 "metadata": {
  "kernelspec": {
   "display_name": "Python 3",
   "language": "python",
   "name": "python3"
  },
  "language_info": {
   "codemirror_mode": {
    "name": "ipython",
    "version": 3
   },
   "file_extension": ".py",
   "mimetype": "text/x-python",
   "name": "python",
   "nbconvert_exporter": "python",
   "pygments_lexer": "ipython3",
   "version": "3.8.5"
  }
 },
 "nbformat": 4,
 "nbformat_minor": 4
}
